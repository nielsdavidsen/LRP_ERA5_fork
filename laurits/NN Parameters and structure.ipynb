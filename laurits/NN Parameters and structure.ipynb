{
 "cells": [
  {
   "metadata": {},
   "cell_type": "code",
   "outputs": [],
   "execution_count": null,
   "source": [
    "import sys\n",
    "import torch\n",
    "import torch.optim as optim\n",
    "import torch.nn as nn\n",
    "from torchinfo import summary\n",
    "from torcheval.metrics.functional import binary_f1_score\n",
    "import numpy as np\n",
    "import models as mod"
   ],
   "id": "dff84a959d1b81f8"
  },
  {
   "metadata": {},
   "cell_type": "code",
   "outputs": [],
   "execution_count": null,
   "source": [
    "n_layers = 12\n",
    "layers = [4096, 2048, 2048, 2048, 2048, 1024, 1024, 1024, 1024, 1024, 1024, 256]\n",
    "\n",
    "activation = nn.ELU()\n",
    "batch_norm = True # Sould definitely be true all cases without it cannot get below 0.3 MSEloss\n",
    "dropout = 0.10345778206213857\n",
    "lr = 0.0008956904283765739\n",
    "F_loss = nn.MSELoss()\n",
    "\n",
    "epochs = 1000\n",
    "early_stop = 100\n",
    "save_every = 20\n",
    "folds = 10"
   ],
   "id": "d8ecfe122fff00f7"
  },
  {
   "metadata": {},
   "cell_type": "code",
   "outputs": [],
   "execution_count": null,
   "source": [
    "model = mod.FFNN(torch.prod(og_shape),[*layers], activation=activation, last_activation=None, last_number_of_nodes=1, dropout=dropout, batch_norm=batch_norm)\n",
    "\n",
    "#Generates a random tensor, solely for testing the model structure.\n",
    "sample_input = torch.randn(27540, torch.prod(og_shape), device='cpu', dtype=precision)\n",
    "\n",
    "#creates a summary of the model.\n",
    "summary(model, input_data= sample_input, device='cpu', )\n",
    "\n",
    "#Creates an optimizer for the model.\n",
    "optimizer = torch.optim.Adam(model.parameters(), lr=lr, betas=(0.9688437450753952, 0.9339053096761587))\n",
    "#Creates a learning rate scheduler for the model. Which tells the model to adjust the learning rate if the loss is not decreasing.\n",
    "lr_scheduler = optim.lr_scheduler.ReduceLROnPlateau(\n",
    "    optimizer,\n",
    "    mode='min',\n",
    "    factor=0.8297176731533378,\n",
    "    patience=14,\n",
    "    threshold=0.001882996040376476,\n",
    "    min_lr=1e-8,       # Add a minimum LR to prevent the LR from becoming too small\n",
    "    threshold_mode ='rel',\n",
    "    verbose=True\n",
    "    )\n",
    "\n"
   ],
   "id": "4a6a531db32cb536"
  }
 ],
 "metadata": {
  "kernelspec": {
   "display_name": "Python 3",
   "language": "python",
   "name": "python3"
  },
  "language_info": {
   "codemirror_mode": {
    "name": "ipython",
    "version": 2
   },
   "file_extension": ".py",
   "mimetype": "text/x-python",
   "name": "python",
   "nbconvert_exporter": "python",
   "pygments_lexer": "ipython2",
   "version": "2.7.6"
  }
 },
 "nbformat": 4,
 "nbformat_minor": 5
}
