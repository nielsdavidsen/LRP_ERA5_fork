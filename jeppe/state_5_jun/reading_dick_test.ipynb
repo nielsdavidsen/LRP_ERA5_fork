{
 "cells": [
  {
   "cell_type": "code",
   "execution_count": 10,
   "metadata": {},
   "outputs": [
    {
     "data": {
      "text/plain": [
       "{'hidden_dims': [4096, 4096, 2048, 1024, 512, 256, 128],\n",
       " 'dropout_rate': 0.03817734187768196,\n",
       " 'learning_rate': 5.907559354506027e-05,\n",
       " 'weight_decay': 1.3959840070221907e-06}"
      ]
     },
     "execution_count": 10,
     "metadata": {},
     "output_type": "execute_result"
    }
   ],
   "source": [
    "import ast\n",
    "with open(\"best_params_dic.txt\", \"r\") as f:\n",
    "    lines = [line.strip() for line in f if line.strip()]  # skip empty lines\n",
    "\n",
    "params = ast.literal_eval(lines[0])\n",
    "params"
   ]
  },
  {
   "cell_type": "code",
   "execution_count": null,
   "metadata": {},
   "outputs": [],
   "source": []
  }
 ],
 "metadata": {
  "kernelspec": {
   "display_name": "Python 3",
   "language": "python",
   "name": "python3"
  },
  "language_info": {
   "codemirror_mode": {
    "name": "ipython",
    "version": 3
   },
   "file_extension": ".py",
   "mimetype": "text/x-python",
   "name": "python",
   "nbconvert_exporter": "python",
   "pygments_lexer": "ipython3",
   "version": "3.12.3"
  }
 },
 "nbformat": 4,
 "nbformat_minor": 2
}
