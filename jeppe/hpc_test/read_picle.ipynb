{
 "cells": [
  {
   "cell_type": "code",
   "execution_count": 1,
   "id": "2483b2b5",
   "metadata": {},
   "outputs": [],
   "source": [
    "import pickle\n",
    "\n",
    "def load_pickle(file_path):\n",
    "    \"\"\"\n",
    "    Load a pickle file and return the object contained within it.\n",
    "\n",
    "    :param file_path: Path to the pickle file.\n",
    "    :return: The object loaded from the pickle file.\n",
    "    \"\"\"\n",
    "    with open(file_path, 'rb') as file:\n",
    "        return pickle.load(file)"
   ]
  },
  {
   "cell_type": "code",
   "execution_count": 4,
   "id": "c6e108f8",
   "metadata": {},
   "outputs": [
    {
     "data": {
      "text/plain": [
       "{'hidden_dims': [4096, 2048, 1024],\n",
       " 'dropout_rate': 0.23016798439285074,\n",
       " 'learning_rate': 2.2865384627312078e-05,\n",
       " 'weight_decay': 8.331141432493782e-06,\n",
       " 'output_activation': 'none'}"
      ]
     },
     "execution_count": 4,
     "metadata": {},
     "output_type": "execute_result"
    }
   ],
   "source": [
    "load_pickle('/Users/jeppegrejspetersen/Code/Final_project_AppML/LRP_ERA5_fork/jeppe/hpc_test/best_trial.pkl').params"
   ]
  },
  {
   "cell_type": "code",
   "execution_count": null,
   "id": "5ec50288",
   "metadata": {},
   "outputs": [],
   "source": []
  }
 ],
 "metadata": {
  "kernelspec": {
   "display_name": "Python 3",
   "language": "python",
   "name": "python3"
  },
  "language_info": {
   "codemirror_mode": {
    "name": "ipython",
    "version": 3
   },
   "file_extension": ".py",
   "mimetype": "text/x-python",
   "name": "python",
   "nbconvert_exporter": "python",
   "pygments_lexer": "ipython3",
   "version": "3.10.17"
  }
 },
 "nbformat": 4,
 "nbformat_minor": 5
}
