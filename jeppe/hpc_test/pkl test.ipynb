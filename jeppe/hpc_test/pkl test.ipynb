{
 "cells": [
  {
   "cell_type": "code",
   "id": "initial_id",
   "metadata": {
    "collapsed": true,
    "ExecuteTime": {
     "end_time": "2025-06-05T12:36:34.125964Z",
     "start_time": "2025-06-05T12:36:34.123610Z"
    }
   },
   "source": [
    "import pickle\n",
    "import os\n",
    "import numpy as np\n",
    "import xarray as xr"
   ],
   "outputs": [],
   "execution_count": 11
  },
  {
   "metadata": {
    "ExecuteTime": {
     "end_time": "2025-06-05T12:36:38.951347Z",
     "start_time": "2025-06-05T12:36:38.948508Z"
    }
   },
   "cell_type": "code",
   "source": "data_path  = '/Users/lauritsfauli/PycharmProjects/Final_project_APML/era5'",
   "id": "f2a9a01ff27c8c88",
   "outputs": [],
   "execution_count": 12
  },
  {
   "metadata": {},
   "cell_type": "code",
   "outputs": [],
   "execution_count": null,
   "source": [
    "input_files_t2m = [f for f in os.listdir(data_path) if f.endswith('.nc') and '2m' in f]\n",
    "input_files_t2m.sort(key=lambda x: int(x.split('_')[1].split('.')[0]))\n",
    "print(\"input_file_names_t2m:\", input_files_t2m)\n",
    "file_paths_t2m = [os.path.join(data_path, fname) for fname in input_files_t2m]\n",
    "ds_t2m = xr.open_mfdataset(file_paths_t2m, combine='by_coords').isel(pressure_level=0).sel(\n",
    "    latitude=slice(self.latitude_range[0], self.latitude_range[1]),\n",
    "    longitude=slice(self.longitude_range[0], self.longitude_range[1])\n",
    ")\n",
    "\n",
    "doy_t2m = ds_t2m['valid_time'].dt.dayofyear\n",
    "ds_t2m = ds_t2m.assign_coords(day_of_year=doy_t2m)\n",
    "t2m_stand = ds_t2m['t'].groupby('day_of_year').map(standard_scale_day)\n",
    "ds_t2m['t2m_stand'] = t2m_stand\n",
    "t2m_input = ds_t2m.t2m_stand.values\n",
    "\n",
    "if np.isnan(t2m_input).any():\n",
    "    raise ValueError(\"NaN values found in the input data. Please check the dataset for missing values.\")\n",
    "\n",
    "print(\"T2m input shape:\", t2m_input.shape)\n",
    "print(\"input_file_names_t2m:\", input_files_t2m)"
   ],
   "id": "9b4d1a9f9d44aed2"
  }
 ],
 "metadata": {
  "kernelspec": {
   "display_name": "Python 3",
   "language": "python",
   "name": "python3"
  },
  "language_info": {
   "codemirror_mode": {
    "name": "ipython",
    "version": 2
   },
   "file_extension": ".py",
   "mimetype": "text/x-python",
   "name": "python",
   "nbconvert_exporter": "python",
   "pygments_lexer": "ipython2",
   "version": "2.7.6"
  }
 },
 "nbformat": 4,
 "nbformat_minor": 5
}
