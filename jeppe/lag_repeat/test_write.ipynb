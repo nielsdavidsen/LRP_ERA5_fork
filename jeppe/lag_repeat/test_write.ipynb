{
 "cells": [
  {
   "cell_type": "code",
   "execution_count": 1,
   "metadata": {},
   "outputs": [],
   "source": [
    "lags = [0,1,2,3,4]\n",
    "for lag in lags:\n",
    "    ##write to .txt\n",
    "    with open(\"mse.txt\", \"a\") as f:\n",
    "        f.write(f\"lag: {lag}\\n\")\n",
    "\n",
    "    for _ in range(5):\n",
    "        mse = 4\n",
    "        with open(\"mse.txt\", \"a\") as f:\n",
    "            f.write(f\"mse: {mse}\\n\")"
   ]
  },
  {
   "cell_type": "code",
   "execution_count": null,
   "metadata": {},
   "outputs": [],
   "source": []
  }
 ],
 "metadata": {
  "kernelspec": {
   "display_name": "Python 3",
   "language": "python",
   "name": "python3"
  },
  "language_info": {
   "codemirror_mode": {
    "name": "ipython",
    "version": 3
   },
   "file_extension": ".py",
   "mimetype": "text/x-python",
   "name": "python",
   "nbconvert_exporter": "python",
   "pygments_lexer": "ipython3",
   "version": "3.12.3"
  }
 },
 "nbformat": 4,
 "nbformat_minor": 2
}
