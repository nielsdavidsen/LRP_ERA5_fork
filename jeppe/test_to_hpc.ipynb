{
 "cells": [
  {
   "cell_type": "code",
   "execution_count": null,
   "id": "6f3ab1f7",
   "metadata": {},
   "outputs": [
    {
     "name": "stdout",
     "output_type": "stream",
     "text": [
      "Msl input shape: (1827, 120, 408)\n",
      "input_file_names: ['era5_1940_mean_sea_level_pressure.nc', 'era5_1941_mean_sea_level_pressure.nc', 'era5_1942_mean_sea_level_pressure.nc', 'era5_1943_mean_sea_level_pressure.nc', 'era5_1944_mean_sea_level_pressure.nc']\n",
      "T850 input shape: (1827, 120, 408)\n",
      "input_file_names_t850: ['era5_1940_temperature_850hPa.nc', 'era5_1941_temperature_850hPa.nc', 'era5_1942_temperature_850hPa.nc', 'era5_1943_temperature_850hPa.nc', 'era5_1944_temperature_850hPa.nc']\n",
      "Precipitation target shape: (1827,)\n",
      "target_file_names: ['era5_1940_total_precipitation.nc', 'era5_1941_total_precipitation.nc', 'era5_1942_total_precipitation.nc', 'era5_1943_total_precipitation.nc', 'era5_1944_total_precipitation.nc']\n",
      "No sub-sampling applied.\n",
      "X shape: (1827, 2, 120, 408)\n",
      "Precipitation target shape: (1827,)\n"
     ]
    }
   ],
   "source": [
    "\n",
    "\n",
    "   "
   ]
  },
  {
   "cell_type": "code",
   "execution_count": 14,
   "id": "f6ba79d2",
   "metadata": {},
   "outputs": [],
   "source": [
    "import copy"
   ]
  },
  {
   "cell_type": "code",
   "execution_count": null,
   "id": "c8940d26",
   "metadata": {},
   "outputs": [
    {
     "name": "stdout",
     "output_type": "stream",
     "text": [
      "Creating model for lag 1\n",
      "Lagged X shape: (1826, 2, 120, 408)\n",
      "Lagged target shape: (1826,)\n",
      "Creating model for lag 20\n",
      "Lagged X shape: (1807, 2, 120, 408)\n",
      "Lagged target shape: (1807,)\n"
     ]
    }
   ],
   "source": [
    "from models import Model_FFN\n",
    "model = Model_FFN(data_path='/Users/jeppegrejspetersen/Code/Final_project_AppML/era5')\n",
    "model.load_data(sub_sampling=False)\n",
    "lagged_models = []\n",
    "lags =[1,20]\n",
    "for lag in lags:\n",
    "    print(f'Creating model for lag {lag}')\n",
    "    lagged_models.append(model.lag_data(lag=lag))\n",
    "\n"
   ]
  },
  {
   "cell_type": "code",
   "execution_count": 16,
   "id": "b165b331",
   "metadata": {},
   "outputs": [
    {
     "data": {
      "text/plain": [
       "[None, None]"
      ]
     },
     "execution_count": 16,
     "metadata": {},
     "output_type": "execute_result"
    }
   ],
   "source": [
    "lagged_models"
   ]
  },
  {
   "cell_type": "code",
   "execution_count": 17,
   "id": "f1066022",
   "metadata": {},
   "outputs": [
    {
     "ename": "AttributeError",
     "evalue": "'NoneType' object has no attribute 'prepare_data_for_tensorflow'",
     "output_type": "error",
     "traceback": [
      "\u001b[0;31m---------------------------------------------------------------------------\u001b[0m",
      "\u001b[0;31mAttributeError\u001b[0m                            Traceback (most recent call last)",
      "Cell \u001b[0;32mIn[17], line 2\u001b[0m\n\u001b[1;32m      1\u001b[0m \u001b[38;5;28;01mfor\u001b[39;00m i, modeller \u001b[38;5;129;01min\u001b[39;00m \u001b[38;5;28menumerate\u001b[39m(lagged_models):\n\u001b[0;32m----> 2\u001b[0m     \u001b[43mmodeller\u001b[49m\u001b[38;5;241;43m.\u001b[39;49m\u001b[43mprepare_data_for_tensorflow\u001b[49m(test_size\u001b[38;5;241m=\u001b[39m\u001b[38;5;241m0.1\u001b[39m)\n\u001b[1;32m      3\u001b[0m     modeller\u001b[38;5;241m.\u001b[39mbuild_model(dropout_rate\u001b[38;5;241m=\u001b[39m\u001b[38;5;241m0.3\u001b[39m, hidden_dims\u001b[38;5;241m=\u001b[39m[\u001b[38;5;241m256\u001b[39m, \u001b[38;5;241m128\u001b[39m, \u001b[38;5;241m64\u001b[39m])\n\u001b[1;32m      4\u001b[0m     modeller\u001b[38;5;241m.\u001b[39mtrain_model(loss_fcn\u001b[38;5;241m=\u001b[39m\u001b[38;5;124m'\u001b[39m\u001b[38;5;124mmae\u001b[39m\u001b[38;5;124m'\u001b[39m)\n",
      "\u001b[0;31mAttributeError\u001b[0m: 'NoneType' object has no attribute 'prepare_data_for_tensorflow'"
     ]
    }
   ],
   "source": [
    "for i, modeller in enumerate(lagged_models):\n",
    "    modeller.prepare_data_for_tensorflow(test_size=0.1)\n",
    "    modeller.build_model(dropout_rate=0.3, hidden_dims=[256, 128, 64])\n",
    "    modeller.train_model(loss_fcn='mae')\n",
    "    modeller.plot_model_on_test_data(title=f'FFN model with lag {lag[i]}')\n"
   ]
  },
  {
   "cell_type": "code",
   "execution_count": null,
   "id": "1cdda79b",
   "metadata": {},
   "outputs": [],
   "source": []
  }
 ],
 "metadata": {
  "kernelspec": {
   "display_name": "Python 3",
   "language": "python",
   "name": "python3"
  },
  "language_info": {
   "codemirror_mode": {
    "name": "ipython",
    "version": 3
   },
   "file_extension": ".py",
   "mimetype": "text/x-python",
   "name": "python",
   "nbconvert_exporter": "python",
   "pygments_lexer": "ipython3",
   "version": "3.10.17"
  }
 },
 "nbformat": 4,
 "nbformat_minor": 5
}
